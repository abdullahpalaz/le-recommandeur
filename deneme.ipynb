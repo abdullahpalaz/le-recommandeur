{
 "cells": [
  {
   "cell_type": "code",
   "execution_count": 1,
   "id": "e028e0d6",
   "metadata": {},
   "outputs": [],
   "source": [
    "import glob\n",
    "import time\n",
    "import eyed3\n",
    "import librosa\n",
    "import pandas as pd\n",
    "\n",
    "import warnings\n",
    "warnings.filterwarnings(\"ignore\")"
   ]
  },
  {
   "cell_type": "code",
   "execution_count": 2,
   "id": "b96c8ef2",
   "metadata": {},
   "outputs": [],
   "source": [
    "mp3s = glob.glob(\"dataset\\\\*.mp3\")"
   ]
  },
  {
   "cell_type": "code",
   "execution_count": 3,
   "id": "71c397e5",
   "metadata": {},
   "outputs": [
    {
     "name": "stderr",
     "output_type": "stream",
     "text": [
      "Non standard genre name: alternative metal\n",
      "Non standard genre name: alternative metal\n",
      "Non standard genre name: alternative metal\n",
      "Non standard genre name: alternative metal\n",
      "Non standard genre name: alternative metal\n",
      "Non standard genre name: alternative metal\n",
      "Non standard genre name: alternative metal\n",
      "Non standard genre name: alternative metal\n",
      "Non standard genre name: alternative metal\n",
      "Non standard genre name: alternative metal\n"
     ]
    },
    {
     "name": "stdout",
     "output_type": "stream",
     "text": [
      "The whole process took 0.09375 seconds.\n"
     ]
    },
    {
     "data": {
      "text/html": [
       "<div>\n",
       "<style scoped>\n",
       "    .dataframe tbody tr th:only-of-type {\n",
       "        vertical-align: middle;\n",
       "    }\n",
       "\n",
       "    .dataframe tbody tr th {\n",
       "        vertical-align: top;\n",
       "    }\n",
       "\n",
       "    .dataframe thead th {\n",
       "        text-align: right;\n",
       "    }\n",
       "</style>\n",
       "<table border=\"1\" class=\"dataframe\">\n",
       "  <thead>\n",
       "    <tr style=\"text-align: right;\">\n",
       "      <th></th>\n",
       "      <th>title</th>\n",
       "      <th>artist</th>\n",
       "      <th>album</th>\n",
       "      <th>genre</th>\n",
       "    </tr>\n",
       "  </thead>\n",
       "  <tbody>\n",
       "    <tr>\n",
       "      <th>0</th>\n",
       "      <td>AMERIKA</td>\n",
       "      <td>Rammstein</td>\n",
       "      <td>REISE, REISE</td>\n",
       "      <td>alternative metal</td>\n",
       "    </tr>\n",
       "    <tr>\n",
       "      <th>1</th>\n",
       "      <td>DEUTSCHLAND</td>\n",
       "      <td>Rammstein</td>\n",
       "      <td>DEUTSCHLAND</td>\n",
       "      <td>alternative metal</td>\n",
       "    </tr>\n",
       "    <tr>\n",
       "      <th>2</th>\n",
       "      <td>Du hast</td>\n",
       "      <td>Rammstein</td>\n",
       "      <td>Sehnsucht</td>\n",
       "      <td>alternative metal</td>\n",
       "    </tr>\n",
       "    <tr>\n",
       "      <th>3</th>\n",
       "      <td>Engel</td>\n",
       "      <td>Rammstein</td>\n",
       "      <td>Sehnsucht</td>\n",
       "      <td>alternative metal</td>\n",
       "    </tr>\n",
       "    <tr>\n",
       "      <th>4</th>\n",
       "      <td>HAIFISCH</td>\n",
       "      <td>Rammstein</td>\n",
       "      <td>LIEBE IST FÜR ALLE DA (SPECIAL EDITION)</td>\n",
       "      <td>alternative metal</td>\n",
       "    </tr>\n",
       "    <tr>\n",
       "      <th>5</th>\n",
       "      <td>KEINE LUST</td>\n",
       "      <td>Rammstein</td>\n",
       "      <td>REISE, REISE</td>\n",
       "      <td>alternative metal</td>\n",
       "    </tr>\n",
       "    <tr>\n",
       "      <th>6</th>\n",
       "      <td>MEIN LAND</td>\n",
       "      <td>Rammstein</td>\n",
       "      <td>MADE IN GERMANY 1995 - 2011 (SPECIAL EDITION)</td>\n",
       "      <td>alternative metal</td>\n",
       "    </tr>\n",
       "    <tr>\n",
       "      <th>7</th>\n",
       "      <td>OHNE DICH</td>\n",
       "      <td>Rammstein</td>\n",
       "      <td>REISE, REISE</td>\n",
       "      <td>alternative metal</td>\n",
       "    </tr>\n",
       "    <tr>\n",
       "      <th>8</th>\n",
       "      <td>ROSENROT</td>\n",
       "      <td>Rammstein</td>\n",
       "      <td>ROSENROT</td>\n",
       "      <td>alternative metal</td>\n",
       "    </tr>\n",
       "    <tr>\n",
       "      <th>9</th>\n",
       "      <td>Sonne</td>\n",
       "      <td>Rammstein</td>\n",
       "      <td>Mutter</td>\n",
       "      <td>alternative metal</td>\n",
       "    </tr>\n",
       "  </tbody>\n",
       "</table>\n",
       "</div>"
      ],
      "text/plain": [
       "         title     artist                                          album  \\\n",
       "0      AMERIKA  Rammstein                                   REISE, REISE   \n",
       "1  DEUTSCHLAND  Rammstein                                    DEUTSCHLAND   \n",
       "2      Du hast  Rammstein                                      Sehnsucht   \n",
       "3        Engel  Rammstein                                      Sehnsucht   \n",
       "4     HAIFISCH  Rammstein        LIEBE IST FÜR ALLE DA (SPECIAL EDITION)   \n",
       "5   KEINE LUST  Rammstein                                   REISE, REISE   \n",
       "6    MEIN LAND  Rammstein  MADE IN GERMANY 1995 - 2011 (SPECIAL EDITION)   \n",
       "7    OHNE DICH  Rammstein                                   REISE, REISE   \n",
       "8     ROSENROT  Rammstein                                       ROSENROT   \n",
       "9        Sonne  Rammstein                                         Mutter   \n",
       "\n",
       "               genre  \n",
       "0  alternative metal  \n",
       "1  alternative metal  \n",
       "2  alternative metal  \n",
       "3  alternative metal  \n",
       "4  alternative metal  \n",
       "5  alternative metal  \n",
       "6  alternative metal  \n",
       "7  alternative metal  \n",
       "8  alternative metal  \n",
       "9  alternative metal  "
      ]
     },
     "execution_count": 3,
     "metadata": {},
     "output_type": "execute_result"
    }
   ],
   "source": [
    "cols = \"title artist album genre\".split()\n",
    "df = pd.DataFrame([], columns=cols)\n",
    "\n",
    "\n",
    "start_time = time.process_time()\n",
    "\n",
    "\n",
    "for song_path in mp3s:\n",
    "    audiofile = eyed3.load(song_path)\n",
    "    df = df.append({\"title\": audiofile.tag.title,\n",
    "              \"artist\": audiofile.tag.artist,\n",
    "              \"album\": audiofile.tag.album,\n",
    "              \"genre\": audiofile.tag.genre,}, ignore_index=True)\n",
    "\n",
    "print(\"The whole process took\", time.process_time() - start_time, \"seconds.\")\n",
    "\n",
    "df"
   ]
  },
  {
   "cell_type": "code",
   "execution_count": 4,
   "id": "60c6ba63",
   "metadata": {},
   "outputs": [
    {
     "name": "stderr",
     "output_type": "stream",
     "text": [
      "Non standard genre name: alternative metal\n",
      "Non standard genre name: alternative metal\n",
      "Non standard genre name: alternative metal\n",
      "Non standard genre name: alternative metal\n",
      "Non standard genre name: alternative metal\n",
      "Non standard genre name: alternative metal\n",
      "Non standard genre name: alternative metal\n",
      "Non standard genre name: alternative metal\n",
      "Non standard genre name: alternative metal\n",
      "Non standard genre name: alternative metal\n"
     ]
    },
    {
     "name": "stdout",
     "output_type": "stream",
     "text": [
      "The whole process took 96.21875 seconds.\n"
     ]
    },
    {
     "data": {
      "text/html": [
       "<div>\n",
       "<style scoped>\n",
       "    .dataframe tbody tr th:only-of-type {\n",
       "        vertical-align: middle;\n",
       "    }\n",
       "\n",
       "    .dataframe tbody tr th {\n",
       "        vertical-align: top;\n",
       "    }\n",
       "\n",
       "    .dataframe thead th {\n",
       "        text-align: right;\n",
       "    }\n",
       "</style>\n",
       "<table border=\"1\" class=\"dataframe\">\n",
       "  <thead>\n",
       "    <tr style=\"text-align: right;\">\n",
       "      <th></th>\n",
       "      <th>title</th>\n",
       "      <th>artist</th>\n",
       "      <th>album</th>\n",
       "      <th>genre</th>\n",
       "      <th>y</th>\n",
       "    </tr>\n",
       "  </thead>\n",
       "  <tbody>\n",
       "    <tr>\n",
       "      <th>0</th>\n",
       "      <td>AMERIKA</td>\n",
       "      <td>Rammstein</td>\n",
       "      <td>REISE, REISE</td>\n",
       "      <td>alternative metal</td>\n",
       "      <td>[0.0, 0.0, 0.0, 0.0, 0.0, 0.0, 0.0, 0.0, 0.0, ...</td>\n",
       "    </tr>\n",
       "    <tr>\n",
       "      <th>1</th>\n",
       "      <td>DEUTSCHLAND</td>\n",
       "      <td>Rammstein</td>\n",
       "      <td>DEUTSCHLAND</td>\n",
       "      <td>alternative metal</td>\n",
       "      <td>[0.0, 0.0, 0.0, 0.0, 0.0, 0.0, 0.0, 0.0, 0.0, ...</td>\n",
       "    </tr>\n",
       "    <tr>\n",
       "      <th>2</th>\n",
       "      <td>Du hast</td>\n",
       "      <td>Rammstein</td>\n",
       "      <td>Sehnsucht</td>\n",
       "      <td>alternative metal</td>\n",
       "      <td>[0.0, 0.0, 0.0, 0.0, 0.0, 0.0, 0.0, 0.0, 0.0, ...</td>\n",
       "    </tr>\n",
       "    <tr>\n",
       "      <th>3</th>\n",
       "      <td>Engel</td>\n",
       "      <td>Rammstein</td>\n",
       "      <td>Sehnsucht</td>\n",
       "      <td>alternative metal</td>\n",
       "      <td>[0.0, 0.0, 0.0, 0.0, 0.0, 0.0, 0.0, 0.0, 0.0, ...</td>\n",
       "    </tr>\n",
       "    <tr>\n",
       "      <th>4</th>\n",
       "      <td>HAIFISCH</td>\n",
       "      <td>Rammstein</td>\n",
       "      <td>LIEBE IST FÜR ALLE DA (SPECIAL EDITION)</td>\n",
       "      <td>alternative metal</td>\n",
       "      <td>[0.0, 0.0, 0.0, 0.0, 0.0, 0.0, 0.0, 0.0, 0.0, ...</td>\n",
       "    </tr>\n",
       "    <tr>\n",
       "      <th>5</th>\n",
       "      <td>KEINE LUST</td>\n",
       "      <td>Rammstein</td>\n",
       "      <td>REISE, REISE</td>\n",
       "      <td>alternative metal</td>\n",
       "      <td>[-0.040970348, -0.026241776, -0.028803406, -0....</td>\n",
       "    </tr>\n",
       "    <tr>\n",
       "      <th>6</th>\n",
       "      <td>MEIN LAND</td>\n",
       "      <td>Rammstein</td>\n",
       "      <td>MADE IN GERMANY 1995 - 2011 (SPECIAL EDITION)</td>\n",
       "      <td>alternative metal</td>\n",
       "      <td>[0.0, 0.0, 0.0, 0.0, 0.0, 0.0, 0.0, 0.0, 0.0, ...</td>\n",
       "    </tr>\n",
       "    <tr>\n",
       "      <th>7</th>\n",
       "      <td>OHNE DICH</td>\n",
       "      <td>Rammstein</td>\n",
       "      <td>REISE, REISE</td>\n",
       "      <td>alternative metal</td>\n",
       "      <td>[0.0, 0.0, 0.0, 0.0, 0.0, 0.0, 0.0, 0.0, 0.0, ...</td>\n",
       "    </tr>\n",
       "    <tr>\n",
       "      <th>8</th>\n",
       "      <td>ROSENROT</td>\n",
       "      <td>Rammstein</td>\n",
       "      <td>ROSENROT</td>\n",
       "      <td>alternative metal</td>\n",
       "      <td>[0.0, 0.0, 0.0, 0.0, 0.0, 0.0, 0.0, 0.0, 0.0, ...</td>\n",
       "    </tr>\n",
       "    <tr>\n",
       "      <th>9</th>\n",
       "      <td>Sonne</td>\n",
       "      <td>Rammstein</td>\n",
       "      <td>Mutter</td>\n",
       "      <td>alternative metal</td>\n",
       "      <td>[0.0, 0.0, 0.0, 0.0, 0.0, 0.0, 0.0, 0.0, 0.0, ...</td>\n",
       "    </tr>\n",
       "  </tbody>\n",
       "</table>\n",
       "</div>"
      ],
      "text/plain": [
       "         title     artist                                          album  \\\n",
       "0      AMERIKA  Rammstein                                   REISE, REISE   \n",
       "1  DEUTSCHLAND  Rammstein                                    DEUTSCHLAND   \n",
       "2      Du hast  Rammstein                                      Sehnsucht   \n",
       "3        Engel  Rammstein                                      Sehnsucht   \n",
       "4     HAIFISCH  Rammstein        LIEBE IST FÜR ALLE DA (SPECIAL EDITION)   \n",
       "5   KEINE LUST  Rammstein                                   REISE, REISE   \n",
       "6    MEIN LAND  Rammstein  MADE IN GERMANY 1995 - 2011 (SPECIAL EDITION)   \n",
       "7    OHNE DICH  Rammstein                                   REISE, REISE   \n",
       "8     ROSENROT  Rammstein                                       ROSENROT   \n",
       "9        Sonne  Rammstein                                         Mutter   \n",
       "\n",
       "               genre                                                  y  \n",
       "0  alternative metal  [0.0, 0.0, 0.0, 0.0, 0.0, 0.0, 0.0, 0.0, 0.0, ...  \n",
       "1  alternative metal  [0.0, 0.0, 0.0, 0.0, 0.0, 0.0, 0.0, 0.0, 0.0, ...  \n",
       "2  alternative metal  [0.0, 0.0, 0.0, 0.0, 0.0, 0.0, 0.0, 0.0, 0.0, ...  \n",
       "3  alternative metal  [0.0, 0.0, 0.0, 0.0, 0.0, 0.0, 0.0, 0.0, 0.0, ...  \n",
       "4  alternative metal  [0.0, 0.0, 0.0, 0.0, 0.0, 0.0, 0.0, 0.0, 0.0, ...  \n",
       "5  alternative metal  [-0.040970348, -0.026241776, -0.028803406, -0....  \n",
       "6  alternative metal  [0.0, 0.0, 0.0, 0.0, 0.0, 0.0, 0.0, 0.0, 0.0, ...  \n",
       "7  alternative metal  [0.0, 0.0, 0.0, 0.0, 0.0, 0.0, 0.0, 0.0, 0.0, ...  \n",
       "8  alternative metal  [0.0, 0.0, 0.0, 0.0, 0.0, 0.0, 0.0, 0.0, 0.0, ...  \n",
       "9  alternative metal  [0.0, 0.0, 0.0, 0.0, 0.0, 0.0, 0.0, 0.0, 0.0, ...  "
      ]
     },
     "execution_count": 4,
     "metadata": {},
     "output_type": "execute_result"
    }
   ],
   "source": [
    "cols = \"title artist album genre y\".split()\n",
    "df = pd.DataFrame([], columns=cols)\n",
    "\n",
    "\n",
    "start_time = time.process_time()\n",
    "\n",
    "\n",
    "for song_path in mp3s:\n",
    "    audiofile = eyed3.load(song_path)\n",
    "    y, sr = librosa.load(song_path)\n",
    "    df = df.append({\"title\": audiofile.tag.title,\n",
    "              \"artist\": audiofile.tag.artist,\n",
    "              \"album\": audiofile.tag.album,\n",
    "              \"genre\": audiofile.tag.genre,\n",
    "                   \"y\": y,}, ignore_index=True)\n",
    "\n",
    "print(\"The whole process took\", time.process_time() - start_time, \"seconds.\")\n",
    "\n",
    "df"
   ]
  },
  {
   "cell_type": "code",
   "execution_count": null,
   "id": "432caa1d",
   "metadata": {},
   "outputs": [],
   "source": [
    "df[\"y\"][0]"
   ]
  },
  {
   "cell_type": "code",
   "execution_count": null,
   "id": "176fdfc3",
   "metadata": {},
   "outputs": [],
   "source": [
    "audiofile = eyed3.load(\"..\\\\dataset\\\\The Divine Comedy - A Lady of a Certain Age.mp3\")\n",
    "print(audiofile.tag.artist)\n",
    "print(audiofile.tag.album)\n",
    "print(audiofile.tag.album_artist)\n",
    "print(audiofile.tag.title)\n",
    "print(audiofile.tag.track_num)\n",
    "print(audiofile.tag.genre)\n",
    "print(audiofile.tag.lyrics.get(\"lyrics\"))"
   ]
  },
  {
   "cell_type": "code",
   "execution_count": null,
   "id": "6d5f3845",
   "metadata": {},
   "outputs": [],
   "source": [
    "audiofile = eyed3.load(\"..\\\\dataset\\\\UZI - Krvn.mp3\")\n",
    "print(audiofile.tag.artist)\n",
    "print(audiofile.tag.album)\n",
    "print(audiofile.tag.album_artist)\n",
    "print(audiofile.tag.title)\n",
    "print(audiofile.tag.track_num)\n",
    "print(audiofile.tag.genre)"
   ]
  },
  {
   "cell_type": "markdown",
   "id": "db5c57f2",
   "metadata": {},
   "source": [
    "# MP3 trial"
   ]
  },
  {
   "cell_type": "code",
   "execution_count": null,
   "id": "203ff89b",
   "metadata": {},
   "outputs": [],
   "source": [
    "for song_path in mp3s:\n",
    "    y, sr = librosa.load(song_path)\n",
    "    df"
   ]
  },
  {
   "cell_type": "code",
   "execution_count": null,
   "id": "70e05ca7",
   "metadata": {
    "scrolled": true
   },
   "outputs": [],
   "source": [
    "y, sr = librosa.load(\"..\\\\dataset\\\\UZI - Krvn.mp3\")"
   ]
  },
  {
   "cell_type": "code",
   "execution_count": null,
   "id": "af392059",
   "metadata": {},
   "outputs": [],
   "source": [
    "y"
   ]
  },
  {
   "cell_type": "code",
   "execution_count": null,
   "id": "58d94e34",
   "metadata": {},
   "outputs": [],
   "source": [
    "sr"
   ]
  },
  {
   "cell_type": "code",
   "execution_count": null,
   "id": "a72f68da",
   "metadata": {},
   "outputs": [],
   "source": [
    "tempo, beat_frames = librosa.beat.beat_track(y=y, sr=sr)"
   ]
  },
  {
   "cell_type": "code",
   "execution_count": null,
   "id": "5f7a48d1",
   "metadata": {},
   "outputs": [],
   "source": [
    "print('Estimated tempo: {:.2f} beats per minute'.format(tempo))"
   ]
  },
  {
   "cell_type": "code",
   "execution_count": null,
   "id": "8a2c4f92",
   "metadata": {},
   "outputs": [],
   "source": [
    "beat_times = librosa.frames_to_time(beat_frames, sr=sr)"
   ]
  },
  {
   "cell_type": "code",
   "execution_count": null,
   "id": "5d5314af",
   "metadata": {},
   "outputs": [],
   "source": [
    "beat_times"
   ]
  },
  {
   "cell_type": "markdown",
   "id": "f813b47d",
   "metadata": {},
   "source": [
    "# Wav Trial"
   ]
  },
  {
   "cell_type": "code",
   "execution_count": null,
   "id": "6166409d",
   "metadata": {},
   "outputs": [],
   "source": [
    "y, sr = librosa.load(\"..\\\\dataset\\\\UZI - Krvn.wav\")"
   ]
  }
 ],
 "metadata": {
  "kernelspec": {
   "display_name": "Python 3",
   "language": "python",
   "name": "python3"
  },
  "language_info": {
   "codemirror_mode": {
    "name": "ipython",
    "version": 3
   },
   "file_extension": ".py",
   "mimetype": "text/x-python",
   "name": "python",
   "nbconvert_exporter": "python",
   "pygments_lexer": "ipython3",
   "version": "3.8.8"
  }
 },
 "nbformat": 4,
 "nbformat_minor": 5
}
